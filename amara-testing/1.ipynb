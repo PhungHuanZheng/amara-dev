{
 "cells": [
  {
   "cell_type": "code",
   "execution_count": 1,
   "metadata": {},
   "outputs": [],
   "source": [
    "from __future__ import annotations\n",
    "\n",
    "import sys; sys.path.append('../../_Common')\n",
    "\n",
    "import pandas as pd\n",
    "import numpy as np\n",
    "\n",
    "from importlib import reload\n",
    "import amara; reload(amara)\n",
    "\n",
    "%load_ext autoreload\n",
    "%autoreload 2\n",
    "\n",
    "from amara.core.extraction import Forecast_MarketSegment_extract_raw_data, Agilysis_extract_raw_data\n",
    "from amara.datasets.Info_HMS_Raw_Arrivals import mend_arrival_departure_dates\n",
    "from amara.core.grouping import group_categories, group_thresholds\n",
    "from amara.static.branches import hotels\n",
    "\n",
    "from amara.core.wrappers import ExcelFileWrapper, DirectoryWrapper"
   ]
  },
  {
   "cell_type": "code",
   "execution_count": 2,
   "metadata": {},
   "outputs": [
    {
     "name": "stdout",
     "output_type": "stream",
     "text": [
      "{'PoolBar'}\n"
     ]
    }
   ],
   "source": [
    "df = pd.read_excel(DirectoryWrapper(r'Z:\\Raw Data\\Agilysis').files[0])\n",
    "data = Agilysis_extract_raw_data(df)"
   ]
  },
  {
   "cell_type": "code",
   "execution_count": 3,
   "metadata": {},
   "outputs": [
    {
     "data": {
      "text/plain": [
       "Index(['Date', 'ELEMENT', 'ELEMENT @ TRAS', 'ROOM SVC', 'CAFE ORIENTAL',\n",
       "       'BANQUET', 'SILK ROAD', 'TEA ROOM', 'Amara Club Lounge', 'MiniBar',\n",
       "       'PoolBar'],\n",
       "      dtype='object')"
      ]
     },
     "execution_count": 3,
     "metadata": {},
     "output_type": "execute_result"
    }
   ],
   "source": [
    "data[2].columns"
   ]
  },
  {
   "cell_type": "code",
   "execution_count": 4,
   "metadata": {},
   "outputs": [
    {
     "data": {
      "text/plain": [
       "{2}"
      ]
     },
     "execution_count": 4,
     "metadata": {},
     "output_type": "execute_result"
    }
   ],
   "source": [
    "set([1, 2]) - set([1])"
   ]
  },
  {
   "cell_type": "code",
   "execution_count": 1,
   "metadata": {},
   "outputs": [],
   "source": [
    "from __future__ import annotations\n",
    "\n",
    "import math\n",
    "\n",
    "\n",
    "class SingleProgressBar:\n",
    "    def __init__(self, steps: int = 10, bar_length: int = 150, characters: tuple[str, str] = ('░', '▒')) -> None:\n",
    "        self.__steps = steps\n",
    "        self.__current_step = 0\n",
    "\n",
    "        self.__bar_length = bar_length\n",
    "        self.__characters = characters\n",
    "\n",
    "        self.__bar_progress = [math.ceil((i / self.__steps) * self.__bar_length) for i in range(self.__steps)][1:] + [self.__bar_length]\n",
    "        print(f'\\r{\"░\" * self.__bar_length}  0.00%', end='')\n",
    "\n",
    "    def update(self) -> None:\n",
    "        # if past update point, throw warning\n",
    "        if self.__current_step >= self.__steps:\n",
    "            raise Exception(f'Step update exceeded steps count.')\n",
    "\n",
    "        percent_progress = 100 * (self.__current_step + 1) / self.__steps\n",
    "        done_section = f\"{self.__characters[1]}\" * self.__bar_progress[self.__current_step]\n",
    "        tbd_section = f\"{self.__characters[0]}\" * (self.__bar_length - self.__bar_progress[self.__current_step])\n",
    "\n",
    "        print(f'\\r{done_section}{tbd_section} {percent_progress:.2f}%', end='')\n",
    "        self.__current_step += 1\n",
    "\n",
    "        if self.__current_step == self.__steps:\n",
    "            print()"
   ]
  },
  {
   "cell_type": "code",
   "execution_count": null,
   "metadata": {},
   "outputs": [],
   "source": []
  }
 ],
 "metadata": {
  "kernelspec": {
   "display_name": "Amara",
   "language": "python",
   "name": "python3"
  },
  "language_info": {
   "codemirror_mode": {
    "name": "ipython",
    "version": 3
   },
   "file_extension": ".py",
   "mimetype": "text/x-python",
   "name": "python",
   "nbconvert_exporter": "python",
   "pygments_lexer": "ipython3",
   "version": "3.9.16"
  },
  "orig_nbformat": 4
 },
 "nbformat": 4,
 "nbformat_minor": 2
}
